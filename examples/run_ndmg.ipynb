{
 "cells": [
  {
   "cell_type": "code",
   "execution_count": 1,
   "metadata": {
    "collapsed": false
   },
   "outputs": [],
   "source": [
    "%matplotlib inline\n",
    "\n",
    "import ndmg.utils as ndu\n",
    "import ndmg.register as ndr\n",
    "import ndmg.track as ndt\n",
    "import ndmg.graph as ndg\n",
    "import matplotlib.pylab as plt\n",
    "import numpy as np\n",
    "import nibabel as nb\n",
    "import os.path\n",
    "from datetime import datetime"
   ]
  },
  {
   "cell_type": "code",
   "execution_count": 2,
   "metadata": {
    "collapsed": false
   },
   "outputs": [
    {
     "name": "stdout",
     "output_type": "stream",
     "text": [
      "/Users/graywr1/files_for_m2g/KKI2009_113_1_DTI.bval\n"
     ]
    }
   ],
   "source": [
    "\"\"\"\n",
    "Create files list (will ordinarily be parsed from commandline)\n",
    "\"\"\"\n",
    "\n",
    "startTime = datetime.now()\n",
    "\n",
    "baseDir = '/Users/graywr1/files_for_m2g/'\n",
    "bval = os.path.join(baseDir, 'KKI2009_113_1_DTI.bval')\n",
    "bvec = os.path.join(baseDir, 'KKI2009_113_1_DTI.bvec')\n",
    "dwi = os.path.join(baseDir, 'KKI2009_113_1_DTI.nii')\n",
    "mprage = os.path.join(baseDir, 'KKI2009_113_1_MPRAGE.nii')\n",
    "atlas = os.path.join(baseDir, 'MNI152_T1_1mm.nii.gz')\n",
    "labels= os.path.join(baseDir, 'desikan.nii.gz')\n",
    "mask = os.path.join(baseDir, 'MNI152_T1_1mm_brain_mask.nii.gz')\n",
    "aligned_dwi = os.path.join(baseDir, 'KKI2009_113_1_DTI_aligned.nii.gz')\n",
    "temp_dwi ='/tmp/dwifile.nii'\n",
    "\n",
    "print bval"
   ]
  },
  {
   "cell_type": "code",
   "execution_count": 3,
   "metadata": {
    "collapsed": false
   },
   "outputs": [
    {
     "name": "stdout",
     "output_type": "stream",
     "text": [
      "B-values shape (33,)\n",
      "         min 0.000000 \n",
      "         max 700.000000 \n",
      "B-vectors shape (33, 3)\n",
      "         min -0.996763 \n",
      "         max 1.000000 \n",
      "None\n",
      "Executing: eddy_correct /tmp/dwifile_t1.nii.gz /tmp/dwifile_t2.nii.gz [32]\n",
      "Executing: flirt -in /tmp/dwifile_b0.nii.gz -ref /Users/graywr1/files_for_m2g/KKI2009_113_1_MPRAGE.nii -omat /tmp/dwifile_KKI2009_113_1_MPRAGE_xfm.mat -cost mutualinfo -bins 256 -dof 12 -searchrx -180 180 -searchry -180 180 -searchrz -180 180\n",
      "Executing: flirt -in /Users/graywr1/files_for_m2g/KKI2009_113_1_MPRAGE.nii -ref /Users/graywr1/files_for_m2g/MNI152_T1_1mm.nii.gz -omat /tmp/KKI2009_113_1_MPRAGE_MNI152_T1_1mm_xfm.mat -cost mutualinfo -bins 256 -dof 12 -searchrx -180 180 -searchry -180 180 -searchrz -180 180\n",
      "Executing: flirt -in /tmp/dwifile_t2.nii.gz -ref /Users/graywr1/files_for_m2g/MNI152_T1_1mm.nii.gz -out /Users/graywr1/files_for_m2g/KKI2009_113_1_DTI_aligned.nii.gz -init /tmp/dwifile_MNI152_T1_1mm_xfm.mat -interp trilinear -applyxfm\n"
     ]
    }
   ],
   "source": [
    "gtab = ndr().dwi2atlas(temp_dwi, bval, bvec, mprage, atlas, aligned_dwi)"
   ]
  },
  {
   "cell_type": "code",
   "execution_count": 4,
   "metadata": {
    "collapsed": false
   },
   "outputs": [],
   "source": [
    "fibers = ndt().eudx_basic(aligned_dwi, mask, gtab, seed_num=1000000)"
   ]
  },
  {
   "cell_type": "code",
   "execution_count": 5,
   "metadata": {
    "collapsed": false
   },
   "outputs": [
    {
     "name": "stderr",
     "output_type": "stream",
     "text": [
      "/Users/graywr1/anaconda/lib/python2.7/site-packages/dipy/reconst/csdeconv.py:129: UserWarning: Number of parameters required for the fit are more than the actual data points\n",
      "  warnings.warn(msg, UserWarning)\n"
     ]
    },
    {
     "name": "stdout",
     "output_type": "stream",
     "text": [
      "tensors...\n"
     ]
    },
    {
     "name": "stderr",
     "output_type": "stream",
     "text": [
      "/Users/graywr1/anaconda/lib/python2.7/site-packages/dipy/reconst/csdeconv.py:576: UserWarning: maximum number of iterations exceeded - failed to converge\n",
      "  warnings.warn(msg)\n",
      "/Users/graywr1/anaconda/lib/python2.7/site-packages/dipy/direction/peaks.py:504: RuntimeWarning: invalid value encountered in double_scalars\n",
      "  return np.sqrt(numer / denom)\n",
      "/Users/graywr1/anaconda/lib/python2.7/site-packages/dipy/direction/peaks.py:504: RuntimeWarning: invalid value encountered in double_scalars\n",
      "  return np.sqrt(numer / denom)\n",
      "/Users/graywr1/anaconda/lib/python2.7/site-packages/dipy/reconst/csdeconv.py:576: UserWarning: maximum number of iterations exceeded - failed to converge\n",
      "  warnings.warn(msg)\n",
      "/Users/graywr1/anaconda/lib/python2.7/site-packages/dipy/reconst/csdeconv.py:576: UserWarning: maximum number of iterations exceeded - failed to converge\n",
      "  warnings.warn(msg)\n",
      "/Users/graywr1/anaconda/lib/python2.7/site-packages/dipy/reconst/csdeconv.py:576: UserWarning: maximum number of iterations exceeded - failed to converge\n",
      "  warnings.warn(msg)\n"
     ]
    }
   ],
   "source": [
    "fibers2 = ndt().eudx_advanced(aligned_dwi, mask, gtab, seed_num=1000000)"
   ]
  },
  {
   "cell_type": "code",
   "execution_count": 6,
   "metadata": {
    "collapsed": false
   },
   "outputs": [
    {
     "name": "stdout",
     "output_type": "stream",
     "text": [
      "# of Streamlines: 188835\n",
      "0\n",
      "25000\n",
      "50000\n",
      "75000\n",
      "100000\n",
      "125000\n",
      "150000\n",
      "175000\n",
      "Graph attributes: None\n",
      "Number of nodes: 70\n",
      "Node attributes: ids\n",
      "Number of edges: 1183\n",
      "Edge attributes: weight\n"
     ]
    }
   ],
   "source": [
    "labels_im = nb.load(labels)\n",
    "\n",
    "graph = ndg(len(np.unique(labels_im.get_data()))-1, labels)\n",
    "graph.make_graph(fibers)\n",
    "g1 = graph.get_graph()\n",
    "graph.summary()"
   ]
  },
  {
   "cell_type": "code",
   "execution_count": 7,
   "metadata": {
    "collapsed": false
   },
   "outputs": [
    {
     "data": {
      "image/png": "[encoded data removed]",
      "text/plain": [
       "<matplotlib.figure.Figure at 0x10b8d4850>"
      ]
     },
     "metadata": {},
     "output_type": "display_data"
    }
   ],
   "source": [
    "# plot graph\n",
    "\n",
    "fig = plt.figure()\n",
    "ax = fig.add_subplot(1,1,1)\n",
    "ax.set_aspect('equal')\n",
    "G1 = g1.get_adjacency(attribute='weight')\n",
    "G1 = np.asarray(G1.data)\n",
    "\n",
    "plt.imshow(G1, interpolation='nearest', cmap=plt.cm.ocean)\n",
    "plt.colorbar()\n",
    "#plt.savefig(subLabel+'.png')\n",
    "plt.show()"
   ]
  },
  {
   "cell_type": "code",
   "execution_count": 8,
   "metadata": {
    "collapsed": false
   },
   "outputs": [],
   "source": [
    "#graph.save_graph()"
   ]
  },
  {
   "cell_type": "code",
   "execution_count": 9,
   "metadata": {
    "collapsed": false
   },
   "outputs": [
    {
     "name": "stdout",
     "output_type": "stream",
     "text": [
      "0:47:50.866344\n"
     ]
    }
   ],
   "source": [
    "print datetime.now() - startTime\n"
   ]
  },
  {
   "cell_type": "code",
   "execution_count": 10,
   "metadata": {
    "collapsed": false
   },
   "outputs": [
    {
     "name": "stdout",
     "output_type": "stream",
     "text": [
      "# of Streamlines: 672730\n",
      "0\n",
      "25000\n",
      "50000\n",
      "75000\n",
      "100000\n",
      "125000\n",
      "150000\n",
      "175000\n",
      "200000\n",
      "225000\n",
      "250000\n",
      "275000\n",
      "300000\n",
      "325000\n",
      "350000\n",
      "375000\n",
      "400000\n",
      "425000\n",
      "450000\n",
      "475000\n",
      "500000\n",
      "525000\n",
      "550000\n",
      "575000\n",
      "600000\n",
      "625000\n",
      "650000\n",
      "Graph attributes: None\n",
      "Number of nodes: 70\n",
      "Node attributes: ids\n",
      "Number of edges: 1936\n",
      "Edge attributes: weight\n"
     ]
    }
   ],
   "source": [
    "# Graph 2\n",
    "\n",
    "labels_im = nb.load(labels)\n",
    "\n",
    "graph2 = ndg(len(np.unique(labels_im.get_data()))-1, labels)\n",
    "graph2.make_graph(fibers2)\n",
    "g2 = graph2.get_graph()\n",
    "graph2.summary()"
   ]
  },
  {
   "cell_type": "code",
   "execution_count": 11,
   "metadata": {
    "collapsed": false
   },
   "outputs": [
    {
     "data": {
      "image/png": "[encoded data removed]",
      "text/plain": [
       "<matplotlib.figure.Figure at 0x104d048d0>"
      ]
     },
     "metadata": {},
     "output_type": "display_data"
    }
   ],
   "source": [
    "# plot graph2\n",
    "\n",
    "fig = plt.figure()\n",
    "ax = fig.add_subplot(1,1,1)\n",
    "ax.set_aspect('equal')\n",
    "G2 = g2.get_adjacency(attribute='weight')\n",
    "G2 = np.asarray(G2.data)\n",
    "\n",
    "plt.imshow(G2, interpolation='nearest', cmap=plt.cm.ocean)\n",
    "plt.colorbar()\n",
    "#plt.savefig(subLabel+'.png')\n",
    "plt.show()"
   ]
  },
  {
   "cell_type": "code",
   "execution_count": 12,
   "metadata": {
    "collapsed": false
   },
   "outputs": [
    {
     "data": {
      "image/png": "[encoded data removed]",
      "text/plain": [
       "<matplotlib.figure.Figure at 0x10b8da790>"
      ]
     },
     "metadata": {},
     "output_type": "display_data"
    }
   ],
   "source": [
    "plt.imshow(G2-G1, interpolation='nearest', cmap=plt.cm.OrRd)\n",
    "plt.colorbar()\n",
    "plt.show()"
   ]
  },
  {
   "cell_type": "code",
   "execution_count": null,
   "metadata": {
    "collapsed": true
   },
   "outputs": [],
   "source": []
  }
 ],
 "metadata": {
  "kernelspec": {
   "display_name": "Python 2",
   "language": "python",
   "name": "python2"
  },
  "language_info": {
   "codemirror_mode": {
    "name": "ipython",
    "version": 2
   },
   "file_extension": ".py",
   "mimetype": "text/x-python",
   "name": "python",
   "nbconvert_exporter": "python",
   "pygments_lexer": "ipython2",
   "version": "2.7.11"
  }
 },
 "nbformat": 4,
 "nbformat_minor": 0
}
