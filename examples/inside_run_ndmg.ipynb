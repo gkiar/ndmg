{
 "cells": [
  {
   "cell_type": "markdown",
   "metadata": {},
   "source": [
    "### Under the hood of run_ndmg()\n",
    "\n",
    "Let's take a closer look at how the `run_ndmg()` method operates under the hood. `run_ndmg()`",
    " is our suggested one-click pipeline for reliable connectome estimation from diffusion and structural MRI data.",
    " This pipeline makes use of internally exposed modules, and they can be strung together differently if the",
    " user wishes to vary their processing technique while performing exploratory analysis. Let's dive in!\n",
    "\n",
    "\n"
   ]
  },
  {
   "cell_type": "markdown",
   "metadata": {},
   "source": [
    "We start with importing the things we're going to need:"
   ]
  },
  {
   "cell_type": "code",
   "execution_count": 1,
   "metadata": {
    "collapsed": true
   },
   "outputs": [],
   "source": [
    "from argparse import ArgumentParser\n",
    "from datetime import datetime\n",
    "from subprocess import Popen, PIPE\n",
    "import os.path as op\n",
    "import ndmg.utils as mgu\n",
    "import ndmg.register as mgr\n",
    "import ndmg.track as mgt\n",
    "import ndmg.graph as mgg\n",
    "import numpy as np\n",
    "import nibabel as nb\n",
    "\n",
    "from dipy.reconst.dti import TensorModel, fractional_anisotropy, quantize_evecs\n",
    "from dipy.reconst.csdeconv import (ConstrainedSphericalDeconvModel,\n",
    "                                   auto_response)\n",
    "from dipy.direction import peaks_from_model\n",
    "from dipy.tracking.eudx import EuDX\n",
    "from dipy.data import get_sphere, get_data\n",
    "from dipy.core.gradients import gradient_table"
   ]
  },
  {
   "cell_type": "markdown",
   "metadata": {},
   "source": [
    "As you know, the `run_ndmg` function is called as follows:\n",
    "\n",
    "    run_ndmg(dwi, bvals, bvecs, mprage, atlas, mask, labels, outdir)\n",
    "    \n",
    "Therefore, we should define some input parameters in our workspace.\n",
    "Let's pretend the files are the same as in the first example."
   ]
  },
  {
   "cell_type": "code",
   "execution_count": 2,
   "metadata": {
    "collapsed": true
   },
   "outputs": [],
   "source": [
    "dwi = './KKI2009_113_1_DTI.nii'\n",
    "bvals = './KKI2009_113_1_DTI.bval'\n",
    "bvecs = './KKI2009_113_1_DTI.bvec'\n",
    "mprage = './KKI2009_113_1_MPRAGE.nii'\n",
    "atlas = './MNI152_T1_1mm.nii.gz'\n",
    "mask = './MNI152_T1_1mm_brain_mask.nii.gz'\n",
    "labels = ['./desikan.nii.gz']\n",
    "outdir = '.'"
   ]
  },
  {
   "cell_type": "markdown",
   "metadata": {},
   "source": [
    "Now, instead of calling the function we're going to go through it step by step...\n",
    "\n",
    "... Up first, preparing output filenames!"
   ]
  },
  {
   "cell_type": "code",
   "execution_count": 3,
   "metadata": {
    "collapsed": false
   },
   "outputs": [
    {
     "name": "stdout",
     "output_type": "stream",
     "text": [
      "This pipeline will produce the following derivatives...\n",
      "DTI volume resitered to atlas: ./reg_dwi/KKI2009_113_1_DTI_aligned.nii.gz\n",
      "Diffusion tensors in atlas space: ./tensors/KKI2009_113_1_DTI_tensors.npz\n",
      "Fiber streamlines in atlas space: ./fibers/KKI2009_113_1_DTI_fibers.npz\n",
      "Graphs of streamlines downsampled to given labels: ./graphs/desikan/KKI2009_113_1_DTI_desikan.graphml\n"
     ]
    }
   ],
   "source": [
    "# Create derivative output directories\n",
    "dwi_name = op.splitext(op.splitext(op.basename(dwi))[0])[0]\n",
    "cmd = \"mkdir -p \" + outdir + \"/reg_dwi \" + outdir + \"/tensors \" +\\\n",
    "       outdir + \"/fibers \" + outdir + \"/graphs\"\n",
    "p = Popen(cmd, stdout=PIPE, stderr=PIPE, shell=True)\n",
    "p.communicate()\n",
    "\n",
    "# Graphs are different because of potential for multiple parcellations\n",
    "label_name = [op.splitext(op.splitext(op.basename(x))[0])[0]\n",
    "              for x in labels]\n",
    "for label in label_name:\n",
    "    p = Popen(\"mkdir -p \" + outdir + \"/graphs/\" + label,\n",
    "              stdout=PIPE, stderr=PIPE, shell=True)\n",
    "\n",
    "# Create derivative output file names\n",
    "aligned_dwi = outdir + \"/reg_dwi/\" + dwi_name + \"_aligned.nii.gz\"\n",
    "tensors = outdir + \"/tensors/\" + dwi_name + \"_tensors.npz\"\n",
    "fibers = outdir + \"/fibers/\" + dwi_name + \"_fibers.npz\"\n",
    "print \"This pipeline will produce the following derivatives...\"\n",
    "print \"DTI volume resitered to atlas: \" + aligned_dwi\n",
    "print \"Diffusion tensors in atlas space: \" + tensors\n",
    "print \"Fiber streamlines in atlas space: \" + fibers\n",
    "\n",
    "# Again, graphs are different\n",
    "graphs = [outdir + \"/graphs/\" + x + '/' + dwi_name + \"_\" + x + \".graphml\"\n",
    "          for x in label_name]\n",
    "print \"Graphs of streamlines downsampled to given labels: \" +\\\n",
    "      (\", \".join([x for x in graphs]))"
   ]
  },
  {
   "cell_type": "markdown",
   "metadata": {},
   "source": [
    "Great. Now we have some input files defined and stored, and we know where we'll dump outputs.\n",
    "I'd say we're about ready to start the real stuff!\n",
    "\n",
    "Let's start by making a gradient table. The gradient table combines the b-values and b-vectors, \n",
    "and is used when computing tensors on the diffusion data - a necessary step before making our\n",
    "connectome.\n",
    "\n",
    "Also, some DTI volumes contain an \"extra\" scan at the end so here we toss that out."
   ]
  },
  {
   "cell_type": "code",
   "execution_count": 4,
   "metadata": {
    "collapsed": false
   },
   "outputs": [
    {
     "name": "stdout",
     "output_type": "stream",
     "text": [
      "Generating gradient table...\n",
      "B-values shape (33,)\n",
      "         min 0.000000 \n",
      "         max 700.000000 \n",
      "B-vectors shape (33, 3)\n",
      "         min -0.996763 \n",
      "         max 1.000000 \n",
      "None\n"
     ]
    }
   ],
   "source": [
    "print \"Generating gradient table...\"\n",
    "dwi1 = outdir + \"/\" + dwi_name + \"_t1.nii.gz\"\n",
    "gtab = mgu.load_bval_bvec(bvals, bvecs, dwi, dwi1)"
   ]
  },
  {
   "cell_type": "markdown",
   "metadata": {},
   "source": [
    "Great! Now we need to align our data. There's no point in doing analysis if you can't compare your\n",
    "results to anything. How we solve this, is by aligning all of our images to a defined and commonly\n",
    "used atlas, the MNI152 template, and perform all of our analysis in these coordinates.\n",
    "\n",
    "Before that alignment we'll do some basic denoising of our dwi image stack. If you don't know, DTI\n",
    "images are collections of 3D volumes, so essentially this step is aligning many (> 30, or even\n",
    "\\> 100 on high quality data sets) 3D images together. For this reason, this is by far the longest\n",
    "step in the pipeline and takes often around 20-30 minutes."
   ]
  },
  {
   "cell_type": "code",
   "execution_count": 5,
   "metadata": {
    "collapsed": false
   },
   "outputs": [
    {
     "name": "stdout",
     "output_type": "stream",
     "text": [
      "Executing: eddy_correct ./KKI2009_113_1_DTI_t1.nii.gz ./KKI2009_113_1_DTI_t2.nii.gz [32]\n"
     ]
    }
   ],
   "source": [
    "# We create some temp files we'll need to use along this process\n",
    "dwi_name = op.splitext(op.splitext(op.basename(dwi))[0])[0]\n",
    "mprage_name = op.splitext(op.splitext(op.basename(mprage))[0])[0]\n",
    "atlas_name = op.splitext(op.splitext(op.basename(atlas))[0])[0]\n",
    "\n",
    "dwi2 = outdir + \"/\" + dwi_name + \"_t2.nii.gz\"\n",
    "b0 = outdir + \"/\" + dwi_name + \"_b0.nii.gz\"\n",
    "xfm1 = outdir + \"/\" + dwi_name + \"_\" + mprage_name + \"_xfm.mat\"\n",
    "xfm2 = outdir + \"/\" + mprage_name + \"_\" + atlas_name + \"_xfm.mat\"\n",
    "xfm3 = outdir + \"/\" + dwi_name + \"_\" + atlas_name + \"_xfm.mat\"\n",
    "\n",
    "# Align DTI volumes to each other\n",
    "mgr().align_slices(dwi1, dwi2, np.where(gtab.b0s_mask)[0])\n",
    "\n",
    "# Loads DTI image in as data and extracts B0 volume\n",
    "dwi_im = nb.load(dwi2)\n",
    "b0_im = mgu.get_b0(gtab, dwi_im.get_data())"
   ]
  },
  {
   "cell_type": "markdown",
   "metadata": {},
   "source": [
    "That took a while, but looks like it went off without a hitch!\n",
    "\n",
    "Now let's take the most-structural-looking scan from out DTI volume (termed B0) and align it to our\n",
    "structural data, and eventually our atlas. We're getting there!"
   ]
  },
  {
   "cell_type": "code",
   "execution_count": 6,
   "metadata": {
    "collapsed": false
   },
   "outputs": [
    {
     "name": "stdout",
     "output_type": "stream",
     "text": [
      "Executing: flirt -in ./KKI2009_113_1_DTI_b0.nii.gz -ref ./KKI2009_113_1_MPRAGE.nii -omat ./KKI2009_113_1_DTI_KKI2009_113_1_MPRAGE_xfm.mat -cost mutualinfo -bins 256 -dof 12 -searchrx -180 180 -searchry -180 180 -searchrz -180 180\n",
      "Executing: flirt -in ./KKI2009_113_1_MPRAGE.nii -ref ./MNI152_T1_1mm.nii.gz -omat ./KKI2009_113_1_MPRAGE_MNI152_T1_1mm_xfm.mat -cost mutualinfo -bins 256 -dof 12 -searchrx -180 180 -searchry -180 180 -searchrz -180 180\n"
     ]
    }
   ],
   "source": [
    "# Wraps B0 volume in new nifti image\n",
    "b0_head = dwi_im.get_header()\n",
    "b0_head.set_data_shape(b0_head.get_data_shape()[0:3])\n",
    "b0_out = nb.Nifti1Image(b0_im, affine=dwi_im.get_affine(),\n",
    "                        header=b0_head)\n",
    "b0_out.update_header()\n",
    "nb.save(b0_out, b0)\n",
    "\n",
    "# Algins B0 volume to MPRAGE, and MPRAGE to Atlas\n",
    "mgr().align(b0, mprage, xfm1)\n",
    "mgr().align(mprage, atlas, xfm2)"
   ]
  },
  {
   "cell_type": "markdown",
   "metadata": {},
   "source": [
    "Now that wasn't nearly as painful. Even got two print statements to keep us company! So we have aligned\n",
    "the B0 volume to our structural scan, and the structural scan to our atlas... But our image still isn't\n",
    "in atlas space, right?\n",
    "\n",
    "Right! We will combine those transforms in sequence, and then apply the registration to our DTI images."
   ]
  },
  {
   "cell_type": "code",
   "execution_count": 7,
   "metadata": {
    "collapsed": false
   },
   "outputs": [
    {
     "name": "stdout",
     "output_type": "stream",
     "text": [
      "Executing: flirt -in ./KKI2009_113_1_DTI_t2.nii.gz -ref ./MNI152_T1_1mm.nii.gz -out ./reg_dwi/KKI2009_113_1_DTI_aligned.nii.gz -init ./KKI2009_113_1_DTI_MNI152_T1_1mm_xfm.mat -interp trilinear -applyxfm\n"
     ]
    }
   ],
   "source": [
    "# Combines transforms from previous registrations in proper order\n",
    "cmd = \"convert_xfm -omat \" + xfm3 + \" -concat \" + xfm2 + \" \" + xfm1\n",
    "p = Popen(cmd, stdout=PIPE, stderr=PIPE, shell=True)\n",
    "p.communicate()\n",
    "\n",
    "# Applies combined transform to dwi image volume\n",
    "mgr().applyxfm(dwi2, atlas, xfm3, aligned_dwi)"
   ]
  },
  {
   "cell_type": "markdown",
   "metadata": {},
   "source": [
    "Finally, we're getting somewhere! We have our DTI volume in the atlas space now, so \n",
    "let the fun diffusion processing begin.\n",
    "\n",
    "So, let's not waste any time and generate some tensors! Once we've got them let's use\n",
    "DiPy's EuDX algorithm to form fiber streamlines.\n"
   ]
  },
  {
   "cell_type": "code",
   "execution_count": 8,
   "metadata": {
    "collapsed": false
   },
   "outputs": [
    {
     "name": "stdout",
     "output_type": "stream",
     "text": [
      "Saving tensors and fibers...\n"
     ]
    }
   ],
   "source": [
    "# Loads image data\n",
    "img = nb.load(aligned_dwi)\n",
    "data = img.get_data()\n",
    "\n",
    "# Loads mask and ensures it's a true binary mask\n",
    "img = nb.load(mask)\n",
    "mask = img.get_data()\n",
    "mask = mask > 0\n",
    "\n",
    "# Estimates some tensors\n",
    "model = TensorModel(gtab)\n",
    "ten = model.fit(data, mask)\n",
    "sphere = get_sphere('symmetric724')\n",
    "ind = quantize_evecs(ten.evecs, sphere.vertices)\n",
    "\n",
    "# Peforms tractography on the tensors\n",
    "eu = EuDX(a=ten.fa, ind=ind, seeds=1000000,\n",
    "          odf_vertices=sphere.vertices, a_low=0.1)\n",
    "tracks = [e for e in eu]\n",
    "\n",
    "print \"Saving tensors and fibers...\"\n",
    "np.savez(tensors, ten)\n",
    "np.savez(fibers, tracks)"
   ]
  },
  {
   "cell_type": "markdown",
   "metadata": {},
   "source": [
    "Super cool, we have fibers now! We're just about finished, so let's hurry up and finish this\n",
    "so we can get out of here early.\n",
    "\n",
    "All that's left do is generate our graphs for each of our parcellations."
   ]
  },
  {
   "cell_type": "code",
   "execution_count": 9,
   "metadata": {
    "collapsed": false
   },
   "outputs": [
    {
     "name": "stdout",
     "output_type": "stream",
     "text": [
      "Generating graph for desikan parcellation...\n",
      "# of Streamlines: 188956\n",
      "0\n",
      "25000\n",
      "50000\n",
      "75000\n",
      "100000\n",
      "125000\n",
      "150000\n",
      "175000\n",
      "Graph attributes: None\n",
      "Number of nodes: 70\n",
      "Node attributes: ids\n",
      "Number of edges: 1184\n",
      "Edge attributes: weight\n"
     ]
    }
   ],
   "source": [
    "# Generate graphs from streamlines for each parcellation\n",
    "for idx, label in enumerate(label_name):\n",
    "    print \"Generating graph for \" + label + \" parcellation...\"\n",
    "    labels_im = nb.load(labels[idx])\n",
    "    g = mgg(len(np.unique(labels_im.get_data()))-1, labels[idx])\n",
    "    g.make_graph(tracks)\n",
    "    g.summary()\n",
    "    g.save_graph(graphs[idx])"
   ]
  },
  {
   "cell_type": "markdown",
   "metadata": {},
   "source": [
    "And voila! We're done! Congratulations, you've just successfully mapped a brain. Want to see\n",
    "the produced graph? I suppose we can let you do that..."
   ]
  },
  {
   "cell_type": "code",
   "execution_count": 10,
   "metadata": {
    "collapsed": false
   },
   "outputs": [
    {
     "name": "stderr",
     "output_type": "stream",
     "text": [
      "/usr/local/lib/python2.7/site-packages/matplotlib/font_manager.py:273: UserWarning: Matplotlib is building the font cache using fc-list. This may take a moment.\n",
      "  warnings.warn('Matplotlib is building the font cache using fc-list. This may take a moment.')\n"
     ]
    },
    {
     "data": {
      "image/png": "[encoded data removed]",
      "text/plain": [
       "<matplotlib.figure.Figure at 0x10bcc0a10>"
      ]
     },
     "metadata": {},
     "output_type": "display_data"
    }
   ],
   "source": [
    "%matplotlib inline\n",
    "import matplotlib.pylab as plt\n",
    "\n",
    "fig = plt.figure()\n",
    "ax = fig.add_subplot(1,1,1)\n",
    "ax.set_aspect('equal')\n",
    "g1 = g.get_graph()\n",
    "G1 = g1.get_adjacency(attribute='weight')\n",
    "G1 = np.asarray(G1.data)\n",
    "\n",
    "plt.imshow(G1, interpolation='nearest', cmap=plt.cm.ocean)\n",
    "plt.colorbar()\n",
    "plt.show()"
   ]
  }
 ],
 "metadata": {
  "kernelspec": {
   "display_name": "Python 2",
   "language": "python",
   "name": "python2"
  },
  "language_info": {
   "codemirror_mode": {
    "name": "ipython",
    "version": 2
   },
   "file_extension": ".py",
   "mimetype": "text/x-python",
   "name": "python",
   "nbconvert_exporter": "python",
   "pygments_lexer": "ipython2",
   "version": "2.7.11"
  }
 },
 "nbformat": 4,
 "nbformat_minor": 0
}
